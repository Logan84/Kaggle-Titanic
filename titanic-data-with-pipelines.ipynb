{
 "cells": [
  {
   "cell_type": "code",
   "execution_count": 1,
   "id": "50bfe51c",
   "metadata": {
    "_cell_guid": "b1076dfc-b9ad-4769-8c92-a6c4dae69d19",
    "_uuid": "8f2839f25d086af736a60e9eeb907d3b93b6e0e5",
    "execution": {
     "iopub.execute_input": "2022-12-23T17:22:27.857589Z",
     "iopub.status.busy": "2022-12-23T17:22:27.856941Z",
     "iopub.status.idle": "2022-12-23T17:22:27.873281Z",
     "shell.execute_reply": "2022-12-23T17:22:27.871779Z"
    },
    "papermill": {
     "duration": 0.030051,
     "end_time": "2022-12-23T17:22:27.876442",
     "exception": false,
     "start_time": "2022-12-23T17:22:27.846391",
     "status": "completed"
    },
    "tags": []
   },
   "outputs": [
    {
     "name": "stdout",
     "output_type": "stream",
     "text": [
      "/kaggle/input/titanic/train.csv\n",
      "/kaggle/input/titanic/test.csv\n",
      "/kaggle/input/titanic/gender_submission.csv\n"
     ]
    }
   ],
   "source": [
    "# This Python 3 environment comes with many helpful analytics libraries installed\n",
    "# It is defined by the kaggle/python Docker image: https://github.com/kaggle/docker-python\n",
    "# For example, here's several helpful packages to load\n",
    "\n",
    "import numpy as np # linear algebra\n",
    "import pandas as pd # data processing, CSV file I/O (e.g. pd.read_csv)\n",
    "\n",
    "# Input data files are available in the read-only \"../input/\" directory\n",
    "# For example, running this (by clicking run or pressing Shift+Enter) will list all files under the input directory\n",
    "\n",
    "import os\n",
    "for dirname, _, filenames in os.walk('/kaggle/input'):\n",
    "    for filename in filenames:\n",
    "        print(os.path.join(dirname, filename))\n",
    "\n",
    "# You can write up to 20GB to the current directory (/kaggle/working/) that gets preserved as output when you create a version using \"Save & Run All\" \n",
    "# You can also write temporary files to /kaggle/temp/, but they won't be saved outside of the current session"
   ]
  },
  {
   "cell_type": "code",
   "execution_count": 2,
   "id": "78bf7255",
   "metadata": {
    "execution": {
     "iopub.execute_input": "2022-12-23T17:22:27.894389Z",
     "iopub.status.busy": "2022-12-23T17:22:27.893902Z",
     "iopub.status.idle": "2022-12-23T17:22:27.899840Z",
     "shell.execute_reply": "2022-12-23T17:22:27.898532Z"
    },
    "papermill": {
     "duration": 0.018176,
     "end_time": "2022-12-23T17:22:27.902421",
     "exception": false,
     "start_time": "2022-12-23T17:22:27.884245",
     "status": "completed"
    },
    "tags": []
   },
   "outputs": [],
   "source": [
    "train_data_file = \"/kaggle/input/titanic/train.csv\"\n",
    "test_data_file = \"/kaggle/input/titanic/test.csv\""
   ]
  },
  {
   "cell_type": "code",
   "execution_count": 3,
   "id": "0608df29",
   "metadata": {
    "execution": {
     "iopub.execute_input": "2022-12-23T17:22:27.919301Z",
     "iopub.status.busy": "2022-12-23T17:22:27.918811Z",
     "iopub.status.idle": "2022-12-23T17:22:27.951170Z",
     "shell.execute_reply": "2022-12-23T17:22:27.949973Z"
    },
    "papermill": {
     "duration": 0.044633,
     "end_time": "2022-12-23T17:22:27.954225",
     "exception": false,
     "start_time": "2022-12-23T17:22:27.909592",
     "status": "completed"
    },
    "tags": []
   },
   "outputs": [],
   "source": [
    "train_pd = pd.read_csv(train_data_file)\n",
    "test_pd = pd.read_csv(test_data_file)"
   ]
  },
  {
   "cell_type": "markdown",
   "id": "e48e3ee2",
   "metadata": {
    "papermill": {
     "duration": 0.006989,
     "end_time": "2022-12-23T17:22:27.968755",
     "exception": false,
     "start_time": "2022-12-23T17:22:27.961766",
     "status": "completed"
    },
    "tags": []
   },
   "source": [
    "# Exploratoring the  Data"
   ]
  },
  {
   "cell_type": "code",
   "execution_count": 4,
   "id": "7e9f2b46",
   "metadata": {
    "execution": {
     "iopub.execute_input": "2022-12-23T17:22:27.985805Z",
     "iopub.status.busy": "2022-12-23T17:22:27.984821Z",
     "iopub.status.idle": "2022-12-23T17:22:27.999191Z",
     "shell.execute_reply": "2022-12-23T17:22:27.998000Z"
    },
    "papermill": {
     "duration": 0.026091,
     "end_time": "2022-12-23T17:22:28.001960",
     "exception": false,
     "start_time": "2022-12-23T17:22:27.975869",
     "status": "completed"
    },
    "tags": []
   },
   "outputs": [
    {
     "data": {
      "text/plain": [
       "PassengerId      int64\n",
       "Survived         int64\n",
       "Pclass           int64\n",
       "Name            object\n",
       "Sex             object\n",
       "Age            float64\n",
       "SibSp            int64\n",
       "Parch            int64\n",
       "Ticket          object\n",
       "Fare           float64\n",
       "Cabin           object\n",
       "Embarked        object\n",
       "dtype: object"
      ]
     },
     "execution_count": 4,
     "metadata": {},
     "output_type": "execute_result"
    }
   ],
   "source": [
    "train_pd.dtypes"
   ]
  },
  {
   "cell_type": "markdown",
   "id": "13c20f9e",
   "metadata": {
    "papermill": {
     "duration": 0.006694,
     "end_time": "2022-12-23T17:22:28.015714",
     "exception": false,
     "start_time": "2022-12-23T17:22:28.009020",
     "status": "completed"
    },
    "tags": []
   },
   "source": [
    "We can see that Pclass, Age, SubSp, Parch, and Fare are numbers that can be looked through. \n",
    "\n",
    "Name, Sex, Ticket, Cabin, and Embarked would have to be encoded to be useful."
   ]
  },
  {
   "cell_type": "code",
   "execution_count": 5,
   "id": "c9321f77",
   "metadata": {
    "execution": {
     "iopub.execute_input": "2022-12-23T17:22:28.032316Z",
     "iopub.status.busy": "2022-12-23T17:22:28.031860Z",
     "iopub.status.idle": "2022-12-23T17:22:28.094058Z",
     "shell.execute_reply": "2022-12-23T17:22:28.092739Z"
    },
    "papermill": {
     "duration": 0.074354,
     "end_time": "2022-12-23T17:22:28.097248",
     "exception": false,
     "start_time": "2022-12-23T17:22:28.022894",
     "status": "completed"
    },
    "tags": []
   },
   "outputs": [
    {
     "data": {
      "text/html": [
       "<div>\n",
       "<style scoped>\n",
       "    .dataframe tbody tr th:only-of-type {\n",
       "        vertical-align: middle;\n",
       "    }\n",
       "\n",
       "    .dataframe tbody tr th {\n",
       "        vertical-align: top;\n",
       "    }\n",
       "\n",
       "    .dataframe thead th {\n",
       "        text-align: right;\n",
       "    }\n",
       "</style>\n",
       "<table border=\"1\" class=\"dataframe\">\n",
       "  <thead>\n",
       "    <tr style=\"text-align: right;\">\n",
       "      <th></th>\n",
       "      <th>PassengerId</th>\n",
       "      <th>Survived</th>\n",
       "      <th>Pclass</th>\n",
       "      <th>Age</th>\n",
       "      <th>SibSp</th>\n",
       "      <th>Parch</th>\n",
       "      <th>Fare</th>\n",
       "    </tr>\n",
       "  </thead>\n",
       "  <tbody>\n",
       "    <tr>\n",
       "      <th>count</th>\n",
       "      <td>891.000000</td>\n",
       "      <td>891.000000</td>\n",
       "      <td>891.000000</td>\n",
       "      <td>714.000000</td>\n",
       "      <td>891.000000</td>\n",
       "      <td>891.000000</td>\n",
       "      <td>891.000000</td>\n",
       "    </tr>\n",
       "    <tr>\n",
       "      <th>mean</th>\n",
       "      <td>446.000000</td>\n",
       "      <td>0.383838</td>\n",
       "      <td>2.308642</td>\n",
       "      <td>29.699118</td>\n",
       "      <td>0.523008</td>\n",
       "      <td>0.381594</td>\n",
       "      <td>32.204208</td>\n",
       "    </tr>\n",
       "    <tr>\n",
       "      <th>std</th>\n",
       "      <td>257.353842</td>\n",
       "      <td>0.486592</td>\n",
       "      <td>0.836071</td>\n",
       "      <td>14.526497</td>\n",
       "      <td>1.102743</td>\n",
       "      <td>0.806057</td>\n",
       "      <td>49.693429</td>\n",
       "    </tr>\n",
       "    <tr>\n",
       "      <th>min</th>\n",
       "      <td>1.000000</td>\n",
       "      <td>0.000000</td>\n",
       "      <td>1.000000</td>\n",
       "      <td>0.420000</td>\n",
       "      <td>0.000000</td>\n",
       "      <td>0.000000</td>\n",
       "      <td>0.000000</td>\n",
       "    </tr>\n",
       "    <tr>\n",
       "      <th>25%</th>\n",
       "      <td>223.500000</td>\n",
       "      <td>0.000000</td>\n",
       "      <td>2.000000</td>\n",
       "      <td>20.125000</td>\n",
       "      <td>0.000000</td>\n",
       "      <td>0.000000</td>\n",
       "      <td>7.910400</td>\n",
       "    </tr>\n",
       "    <tr>\n",
       "      <th>50%</th>\n",
       "      <td>446.000000</td>\n",
       "      <td>0.000000</td>\n",
       "      <td>3.000000</td>\n",
       "      <td>28.000000</td>\n",
       "      <td>0.000000</td>\n",
       "      <td>0.000000</td>\n",
       "      <td>14.454200</td>\n",
       "    </tr>\n",
       "    <tr>\n",
       "      <th>75%</th>\n",
       "      <td>668.500000</td>\n",
       "      <td>1.000000</td>\n",
       "      <td>3.000000</td>\n",
       "      <td>38.000000</td>\n",
       "      <td>1.000000</td>\n",
       "      <td>0.000000</td>\n",
       "      <td>31.000000</td>\n",
       "    </tr>\n",
       "    <tr>\n",
       "      <th>max</th>\n",
       "      <td>891.000000</td>\n",
       "      <td>1.000000</td>\n",
       "      <td>3.000000</td>\n",
       "      <td>80.000000</td>\n",
       "      <td>8.000000</td>\n",
       "      <td>6.000000</td>\n",
       "      <td>512.329200</td>\n",
       "    </tr>\n",
       "  </tbody>\n",
       "</table>\n",
       "</div>"
      ],
      "text/plain": [
       "       PassengerId    Survived      Pclass         Age       SibSp  \\\n",
       "count   891.000000  891.000000  891.000000  714.000000  891.000000   \n",
       "mean    446.000000    0.383838    2.308642   29.699118    0.523008   \n",
       "std     257.353842    0.486592    0.836071   14.526497    1.102743   \n",
       "min       1.000000    0.000000    1.000000    0.420000    0.000000   \n",
       "25%     223.500000    0.000000    2.000000   20.125000    0.000000   \n",
       "50%     446.000000    0.000000    3.000000   28.000000    0.000000   \n",
       "75%     668.500000    1.000000    3.000000   38.000000    1.000000   \n",
       "max     891.000000    1.000000    3.000000   80.000000    8.000000   \n",
       "\n",
       "            Parch        Fare  \n",
       "count  891.000000  891.000000  \n",
       "mean     0.381594   32.204208  \n",
       "std      0.806057   49.693429  \n",
       "min      0.000000    0.000000  \n",
       "25%      0.000000    7.910400  \n",
       "50%      0.000000   14.454200  \n",
       "75%      0.000000   31.000000  \n",
       "max      6.000000  512.329200  "
      ]
     },
     "execution_count": 5,
     "metadata": {},
     "output_type": "execute_result"
    }
   ],
   "source": [
    "train_pd.describe()"
   ]
  },
  {
   "cell_type": "markdown",
   "id": "601d8740",
   "metadata": {
    "papermill": {
     "duration": 0.007025,
     "end_time": "2022-12-23T17:22:28.113756",
     "exception": false,
     "start_time": "2022-12-23T17:22:28.106731",
     "status": "completed"
    },
    "tags": []
   },
   "source": [
    "From here we can see that Pclass is actually categorical. It may be beneficial to encode it, but we will test it. \n",
    "\n",
    "Age, SibSp, Parch, and Fare are all continuous and will need to be standardized to be using in a model. "
   ]
  },
  {
   "cell_type": "code",
   "execution_count": 6,
   "id": "ebbf25f7",
   "metadata": {
    "execution": {
     "iopub.execute_input": "2022-12-23T17:22:28.132614Z",
     "iopub.status.busy": "2022-12-23T17:22:28.132068Z",
     "iopub.status.idle": "2022-12-23T17:22:28.144227Z",
     "shell.execute_reply": "2022-12-23T17:22:28.142668Z"
    },
    "papermill": {
     "duration": 0.026359,
     "end_time": "2022-12-23T17:22:28.147736",
     "exception": false,
     "start_time": "2022-12-23T17:22:28.121377",
     "status": "completed"
    },
    "tags": []
   },
   "outputs": [
    {
     "data": {
      "text/plain": [
       "PassengerId      0\n",
       "Survived         0\n",
       "Pclass           0\n",
       "Name             0\n",
       "Sex              0\n",
       "Age            177\n",
       "SibSp            0\n",
       "Parch            0\n",
       "Ticket           0\n",
       "Fare             0\n",
       "Cabin          687\n",
       "Embarked         2\n",
       "dtype: int64"
      ]
     },
     "execution_count": 6,
     "metadata": {},
     "output_type": "execute_result"
    }
   ],
   "source": [
    "train_pd.isna().sum()"
   ]
  },
  {
   "cell_type": "markdown",
   "id": "b631e850",
   "metadata": {
    "papermill": {
     "duration": 0.007604,
     "end_time": "2022-12-23T17:22:28.163190",
     "exception": false,
     "start_time": "2022-12-23T17:22:28.155586",
     "status": "completed"
    },
    "tags": []
   },
   "source": [
    "Yikes Age is missing a lot and Cabin even more. We can test dropping or imputation. "
   ]
  },
  {
   "cell_type": "code",
   "execution_count": 7,
   "id": "fc7136ee",
   "metadata": {
    "execution": {
     "iopub.execute_input": "2022-12-23T17:22:28.181251Z",
     "iopub.status.busy": "2022-12-23T17:22:28.180789Z",
     "iopub.status.idle": "2022-12-23T17:22:28.193029Z",
     "shell.execute_reply": "2022-12-23T17:22:28.191713Z"
    },
    "papermill": {
     "duration": 0.025716,
     "end_time": "2022-12-23T17:22:28.196984",
     "exception": false,
     "start_time": "2022-12-23T17:22:28.171268",
     "status": "completed"
    },
    "tags": []
   },
   "outputs": [
    {
     "name": "stdout",
     "output_type": "stream",
     "text": [
      "['male' 'female']\n",
      "[nan 'C85' 'C123' 'E46' 'G6' 'C103' 'D56' 'A6' 'C23 C25 C27' 'B78' 'D33'\n",
      " 'B30' 'C52' 'B28' 'C83' 'F33' 'F G73' 'E31' 'A5' 'D10 D12' 'D26' 'C110'\n",
      " 'B58 B60' 'E101' 'F E69' 'D47' 'B86' 'F2' 'C2' 'E33' 'B19' 'A7' 'C49'\n",
      " 'F4' 'A32' 'B4' 'B80' 'A31' 'D36' 'D15' 'C93' 'C78' 'D35' 'C87' 'B77'\n",
      " 'E67' 'B94' 'C125' 'C99' 'C118' 'D7' 'A19' 'B49' 'D' 'C22 C26' 'C106'\n",
      " 'C65' 'E36' 'C54' 'B57 B59 B63 B66' 'C7' 'E34' 'C32' 'B18' 'C124' 'C91'\n",
      " 'E40' 'T' 'C128' 'D37' 'B35' 'E50' 'C82' 'B96 B98' 'E10' 'E44' 'A34'\n",
      " 'C104' 'C111' 'C92' 'E38' 'D21' 'E12' 'E63' 'A14' 'B37' 'C30' 'D20' 'B79'\n",
      " 'E25' 'D46' 'B73' 'C95' 'B38' 'B39' 'B22' 'C86' 'C70' 'A16' 'C101' 'C68'\n",
      " 'A10' 'E68' 'B41' 'A20' 'D19' 'D50' 'D9' 'A23' 'B50' 'A26' 'D48' 'E58'\n",
      " 'C126' 'B71' 'B51 B53 B55' 'D49' 'B5' 'B20' 'F G63' 'C62 C64' 'E24' 'C90'\n",
      " 'C45' 'E8' 'B101' 'D45' 'C46' 'D30' 'E121' 'D11' 'E77' 'F38' 'B3' 'D6'\n",
      " 'B82 B84' 'D17' 'A36' 'B102' 'B69' 'E49' 'C47' 'D28' 'E17' 'A24' 'C50'\n",
      " 'B42' 'C148']\n",
      "['A/5 21171' 'PC 17599' 'STON/O2. 3101282' '113803' '373450' '330877'\n",
      " '17463' '349909' '347742' '237736' 'PP 9549' '113783' 'A/5. 2151'\n",
      " '347082' '350406' '248706' '382652' '244373' '345763' '2649' '239865'\n",
      " '248698' '330923' '113788' '347077' '2631' '19950' '330959' '349216'\n",
      " 'PC 17601' 'PC 17569' '335677' 'C.A. 24579' 'PC 17604' '113789' '2677'\n",
      " 'A./5. 2152' '345764' '2651' '7546' '11668' '349253' 'SC/Paris 2123'\n",
      " '330958' 'S.C./A.4. 23567' '370371' '14311' '2662' '349237' '3101295'\n",
      " 'A/4. 39886' 'PC 17572' '2926' '113509' '19947' 'C.A. 31026' '2697'\n",
      " 'C.A. 34651' 'CA 2144' '2669' '113572' '36973' '347088' 'PC 17605' '2661'\n",
      " 'C.A. 29395' 'S.P. 3464' '3101281' '315151' 'C.A. 33111' 'S.O.C. 14879'\n",
      " '2680' '1601' '348123' '349208' '374746' '248738' '364516' '345767'\n",
      " '345779' '330932' '113059' 'SO/C 14885' '3101278' 'W./C. 6608'\n",
      " 'SOTON/OQ 392086' '343275' '343276' '347466' 'W.E.P. 5734' 'C.A. 2315'\n",
      " '364500' '374910' 'PC 17754' 'PC 17759' '231919' '244367' '349245'\n",
      " '349215' '35281' '7540' '3101276' '349207' '343120' '312991' '349249'\n",
      " '371110' '110465' '2665' '324669' '4136' '2627' 'STON/O 2. 3101294'\n",
      " '370369' 'PC 17558' 'A4. 54510' '27267' '370372' 'C 17369' '2668'\n",
      " '347061' '349241' 'SOTON/O.Q. 3101307' 'A/5. 3337' '228414' 'C.A. 29178'\n",
      " 'SC/PARIS 2133' '11752' '7534' 'PC 17593' '2678' '347081'\n",
      " 'STON/O2. 3101279' '365222' '231945' 'C.A. 33112' '350043' '230080'\n",
      " '244310' 'S.O.P. 1166' '113776' 'A.5. 11206' 'A/5. 851' 'Fa 265302'\n",
      " 'PC 17597' '35851' 'SOTON/OQ 392090' '315037' 'CA. 2343' '371362'\n",
      " 'C.A. 33595' '347068' '315093' '363291' '113505' 'PC 17318' '111240'\n",
      " 'STON/O 2. 3101280' '17764' '350404' '4133' 'PC 17595' '250653' 'LINE'\n",
      " 'SC/PARIS 2131' '230136' '315153' '113767' '370365' '111428' '364849'\n",
      " '349247' '234604' '28424' '350046' 'PC 17610' '368703' '4579' '370370'\n",
      " '248747' '345770' '3101264' '2628' 'A/5 3540' '347054' '2699' '367231'\n",
      " '112277' 'SOTON/O.Q. 3101311' 'F.C.C. 13528' 'A/5 21174' '250646'\n",
      " '367229' '35273' 'STON/O2. 3101283' '243847' '11813' 'W/C 14208'\n",
      " 'SOTON/OQ 392089' '220367' '21440' '349234' '19943' 'PP 4348' 'SW/PP 751'\n",
      " 'A/5 21173' '236171' '347067' '237442' 'C.A. 29566' 'W./C. 6609' '26707'\n",
      " 'C.A. 31921' '28665' 'SCO/W 1585' '367230' 'W./C. 14263'\n",
      " 'STON/O 2. 3101275' '2694' '19928' '347071' '250649' '11751' '244252'\n",
      " '362316' '113514' 'A/5. 3336' '370129' '2650' 'PC 17585' '110152'\n",
      " 'PC 17755' '230433' '384461' '110413' '112059' '382649' 'C.A. 17248'\n",
      " '347083' 'PC 17582' 'PC 17760' '113798' '250644' 'PC 17596' '370375'\n",
      " '13502' '347073' '239853' 'C.A. 2673' '336439' '347464' '345778'\n",
      " 'A/5. 10482' '113056' '349239' '345774' '349206' '237798' '370373'\n",
      " '19877' '11967' 'SC/Paris 2163' '349236' '349233' 'PC 17612' '2693'\n",
      " '113781' '19988' '9234' '367226' '226593' 'A/5 2466' '17421' 'PC 17758'\n",
      " 'P/PP 3381' 'PC 17485' '11767' 'PC 17608' '250651' '349243'\n",
      " 'F.C.C. 13529' '347470' '29011' '36928' '16966' 'A/5 21172' '349219'\n",
      " '234818' '345364' '28551' '111361' '113043' 'PC 17611' '349225' '7598'\n",
      " '113784' '248740' '244361' '229236' '248733' '31418' '386525'\n",
      " 'C.A. 37671' '315088' '7267' '113510' '2695' '2647' '345783' '237671'\n",
      " '330931' '330980' 'SC/PARIS 2167' '2691' 'SOTON/O.Q. 3101310' 'C 7076'\n",
      " '110813' '2626' '14313' 'PC 17477' '11765' '3101267' '323951' 'C 7077'\n",
      " '113503' '2648' '347069' 'PC 17757' '2653' 'STON/O 2. 3101293' '349227'\n",
      " '27849' '367655' 'SC 1748' '113760' '350034' '3101277' '350052' '350407'\n",
      " '28403' '244278' '240929' 'STON/O 2. 3101289' '341826' '4137' '315096'\n",
      " '28664' '347064' '29106' '312992' '349222' '394140' 'STON/O 2. 3101269'\n",
      " '343095' '28220' '250652' '28228' '345773' '349254' 'A/5. 13032' '315082'\n",
      " '347080' 'A/4. 34244' '2003' '250655' '364851' 'SOTON/O.Q. 392078'\n",
      " '110564' '376564' 'SC/AH 3085' 'STON/O 2. 3101274' '13507' 'C.A. 18723'\n",
      " '345769' '347076' '230434' '65306' '33638' '113794' '2666' '113786'\n",
      " '65303' '113051' '17453' 'A/5 2817' '349240' '13509' '17464'\n",
      " 'F.C.C. 13531' '371060' '19952' '364506' '111320' '234360' 'A/S 2816'\n",
      " 'SOTON/O.Q. 3101306' '113792' '36209' '323592' '315089' 'SC/AH Basle 541'\n",
      " '7553' '31027' '3460' '350060' '3101298' '239854' 'A/5 3594' '4134'\n",
      " '11771' 'A.5. 18509' '65304' 'SOTON/OQ 3101317' '113787' 'PC 17609'\n",
      " 'A/4 45380' '36947' 'C.A. 6212' '350035' '315086' '364846' '330909'\n",
      " '4135' '26360' '111427' 'C 4001' '382651' 'SOTON/OQ 3101316' 'PC 17473'\n",
      " 'PC 17603' '349209' '36967' 'C.A. 34260' '226875' '349242' '12749'\n",
      " '349252' '2624' '2700' '367232' 'W./C. 14258' 'PC 17483' '3101296'\n",
      " '29104' '2641' '2690' '315084' '113050' 'PC 17761' '364498' '13568'\n",
      " 'WE/P 5735' '2908' '693' 'SC/PARIS 2146' '244358' '330979' '2620'\n",
      " '347085' '113807' '11755' '345572' '372622' '349251' '218629'\n",
      " 'SOTON/OQ 392082' 'SOTON/O.Q. 392087' 'A/4 48871' '349205' '2686'\n",
      " '350417' 'S.W./PP 752' '11769' 'PC 17474' '14312' 'A/4. 20589' '358585'\n",
      " '243880' '2689' 'STON/O 2. 3101286' '237789' '13049' '3411' '237565'\n",
      " '13567' '14973' 'A./5. 3235' 'STON/O 2. 3101273' 'A/5 3902' '364848'\n",
      " 'SC/AH 29037' '248727' '2664' '349214' '113796' '364511' '111426'\n",
      " '349910' '349246' '113804' 'SOTON/O.Q. 3101305' '370377' '364512'\n",
      " '220845' '31028' '2659' '11753' '350029' '54636' '36963' '219533'\n",
      " '349224' '334912' '27042' '347743' '13214' '112052' '237668'\n",
      " 'STON/O 2. 3101292' '350050' '349231' '13213' 'S.O./P.P. 751' 'CA. 2314'\n",
      " '349221' '8475' '330919' '365226' '349223' '29751' '2623' '5727' '349210'\n",
      " 'STON/O 2. 3101285' '234686' '312993' 'A/5 3536' '19996' '29750'\n",
      " 'F.C. 12750' 'C.A. 24580' '244270' '239856' '349912' '342826' '4138'\n",
      " '330935' '6563' '349228' '350036' '24160' '17474' '349256' '2672'\n",
      " '113800' '248731' '363592' '35852' '348121' 'PC 17475' '36864' '350025'\n",
      " '223596' 'PC 17476' 'PC 17482' '113028' '7545' '250647' '348124' '34218'\n",
      " '36568' '347062' '350048' '12233' '250643' '113806' '315094' '36866'\n",
      " '236853' 'STON/O2. 3101271' '239855' '28425' '233639' '349201' '349218'\n",
      " '16988' '376566' 'STON/O 2. 3101288' '250648' '113773' '335097' '29103'\n",
      " '392096' '345780' '349204' '350042' '29108' '363294' 'SOTON/O2 3101272'\n",
      " '2663' '347074' '112379' '364850' '8471' '345781' '350047' 'S.O./P.P. 3'\n",
      " '2674' '29105' '347078' '383121' '36865' '2687' '113501' 'W./C. 6607'\n",
      " 'SOTON/O.Q. 3101312' '374887' '3101265' '12460' 'PC 17600' '349203'\n",
      " '28213' '17465' '349244' '2685' '2625' '347089' '347063' '112050'\n",
      " '347087' '248723' '3474' '28206' '364499' '112058' 'STON/O2. 3101290'\n",
      " 'S.C./PARIS 2079' 'C 7075' '315098' '19972' '368323' '367228' '2671'\n",
      " '347468' '2223' 'PC 17756' '315097' '392092' '11774' 'SOTON/O2 3101287'\n",
      " '2683' '315090' 'C.A. 5547' '349213' '347060' 'PC 17592' '392091'\n",
      " '113055' '2629' '350026' '28134' '17466' '233866' '236852'\n",
      " 'SC/PARIS 2149' 'PC 17590' '345777' '349248' '695' '345765' '2667'\n",
      " '349212' '349217' '349257' '7552' 'C.A./SOTON 34068' 'SOTON/OQ 392076'\n",
      " '211536' '112053' '111369' '370376']\n",
      "['S' 'C' 'Q' nan]\n"
     ]
    }
   ],
   "source": [
    "sex = train_pd['Sex'].unique()\n",
    "cabin = train_pd['Cabin'].unique()\n",
    "ticket = train_pd['Ticket'].unique()\n",
    "embarked = train_pd['Embarked'].unique()\n",
    "print(sex)\n",
    "print(cabin)\n",
    "print(ticket)\n",
    "print(embarked)"
   ]
  },
  {
   "cell_type": "markdown",
   "id": "6514cdd5",
   "metadata": {
    "papermill": {
     "duration": 0.007837,
     "end_time": "2022-12-23T17:22:28.213870",
     "exception": false,
     "start_time": "2022-12-23T17:22:28.206033",
     "status": "completed"
    },
    "tags": []
   },
   "source": [
    "With all of this information, we will pick the following features:\n",
    "* PClass\n",
    "* Age\n",
    "* SibSp\n",
    "* Parch \n",
    "* Fare\n",
    "* Sex\n",
    "* Embarked\n",
    "\n",
    "The others were not included due to too many classes or a majority of missing information"
   ]
  },
  {
   "cell_type": "code",
   "execution_count": 8,
   "id": "2ffa6d5b",
   "metadata": {
    "execution": {
     "iopub.execute_input": "2022-12-23T17:22:28.231896Z",
     "iopub.status.busy": "2022-12-23T17:22:28.231221Z",
     "iopub.status.idle": "2022-12-23T17:22:28.241080Z",
     "shell.execute_reply": "2022-12-23T17:22:28.239694Z"
    },
    "papermill": {
     "duration": 0.022127,
     "end_time": "2022-12-23T17:22:28.243841",
     "exception": false,
     "start_time": "2022-12-23T17:22:28.221714",
     "status": "completed"
    },
    "tags": []
   },
   "outputs": [],
   "source": [
    "y = train_pd['Survived']\n",
    "X = train_pd[['Age','Pclass','SibSp','Parch','Fare','Sex','Embarked']]\n",
    "test_X = test_pd[['Age','Pclass','SibSp','Parch','Fare','Sex','Embarked']]"
   ]
  },
  {
   "cell_type": "markdown",
   "id": "b374c349",
   "metadata": {
    "papermill": {
     "duration": 0.008113,
     "end_time": "2022-12-23T17:22:28.260120",
     "exception": false,
     "start_time": "2022-12-23T17:22:28.252007",
     "status": "completed"
    },
    "tags": []
   },
   "source": [
    "Basic options for binary classification can be logistic regression, k-nearest neighbors, decision trees, SVMs, and Naive Bayes. "
   ]
  },
  {
   "cell_type": "markdown",
   "id": "2a1c2ed6",
   "metadata": {
    "papermill": {
     "duration": 0.00742,
     "end_time": "2022-12-23T17:22:28.275567",
     "exception": false,
     "start_time": "2022-12-23T17:22:28.268147",
     "status": "completed"
    },
    "tags": []
   },
   "source": [
    "## Introduce a Pipeline"
   ]
  },
  {
   "cell_type": "code",
   "execution_count": 9,
   "id": "f95bcca3",
   "metadata": {
    "execution": {
     "iopub.execute_input": "2022-12-23T17:22:28.293037Z",
     "iopub.status.busy": "2022-12-23T17:22:28.292532Z",
     "iopub.status.idle": "2022-12-23T17:22:29.740857Z",
     "shell.execute_reply": "2022-12-23T17:22:29.739314Z"
    },
    "papermill": {
     "duration": 1.461654,
     "end_time": "2022-12-23T17:22:29.744915",
     "exception": false,
     "start_time": "2022-12-23T17:22:28.283261",
     "status": "completed"
    },
    "tags": []
   },
   "outputs": [],
   "source": [
    "from sklearn.impute import SimpleImputer\n",
    "from sklearn.preprocessing import OneHotEncoder, MinMaxScaler\n",
    "from sklearn.pipeline import Pipeline"
   ]
  },
  {
   "cell_type": "code",
   "execution_count": 10,
   "id": "6cd05250",
   "metadata": {
    "execution": {
     "iopub.execute_input": "2022-12-23T17:22:29.763603Z",
     "iopub.status.busy": "2022-12-23T17:22:29.763065Z",
     "iopub.status.idle": "2022-12-23T17:22:29.771035Z",
     "shell.execute_reply": "2022-12-23T17:22:29.769848Z"
    },
    "papermill": {
     "duration": 0.020183,
     "end_time": "2022-12-23T17:22:29.773262",
     "exception": false,
     "start_time": "2022-12-23T17:22:29.753079",
     "status": "completed"
    },
    "tags": []
   },
   "outputs": [],
   "source": [
    "numeric_pipeline = Pipeline(steps=[\n",
    "    ('impute', SimpleImputer(strategy='mean')),\n",
    "    ('scale', MinMaxScaler())\n",
    "])\n",
    "\n",
    "categorical_pipeline = Pipeline(steps=[\n",
    "    ('impute', SimpleImputer(strategy='most_frequent')),\n",
    "    ('one-hot', OneHotEncoder(handle_unknown='ignore', sparse=False))\n",
    "])"
   ]
  },
  {
   "cell_type": "code",
   "execution_count": 11,
   "id": "a8fa1bd0",
   "metadata": {
    "execution": {
     "iopub.execute_input": "2022-12-23T17:22:29.792206Z",
     "iopub.status.busy": "2022-12-23T17:22:29.791249Z",
     "iopub.status.idle": "2022-12-23T17:22:29.808974Z",
     "shell.execute_reply": "2022-12-23T17:22:29.807395Z"
    },
    "papermill": {
     "duration": 0.030901,
     "end_time": "2022-12-23T17:22:29.812195",
     "exception": false,
     "start_time": "2022-12-23T17:22:29.781294",
     "status": "completed"
    },
    "tags": []
   },
   "outputs": [],
   "source": [
    "from sklearn.compose import ColumnTransformer\n",
    "\n",
    "numerical_features = X.select_dtypes(include='number').columns.tolist()\n",
    "categorical_features = X.select_dtypes(exclude='number').columns.tolist()\n",
    "\n",
    "full_processor = ColumnTransformer(transformers=[\n",
    "    ('number', numeric_pipeline, numerical_features),\n",
    "    ('category', categorical_pipeline, categorical_features)\n",
    "])"
   ]
  },
  {
   "cell_type": "markdown",
   "id": "0f002b7c",
   "metadata": {
    "papermill": {
     "duration": 0.007472,
     "end_time": "2022-12-23T17:22:29.827552",
     "exception": false,
     "start_time": "2022-12-23T17:22:29.820080",
     "status": "completed"
    },
    "tags": []
   },
   "source": [
    "### Logistic Regression"
   ]
  },
  {
   "cell_type": "code",
   "execution_count": 12,
   "id": "96e07a7e",
   "metadata": {
    "execution": {
     "iopub.execute_input": "2022-12-23T17:22:29.845411Z",
     "iopub.status.busy": "2022-12-23T17:22:29.844928Z",
     "iopub.status.idle": "2022-12-23T17:22:29.851814Z",
     "shell.execute_reply": "2022-12-23T17:22:29.850468Z"
    },
    "papermill": {
     "duration": 0.019096,
     "end_time": "2022-12-23T17:22:29.854460",
     "exception": false,
     "start_time": "2022-12-23T17:22:29.835364",
     "status": "completed"
    },
    "tags": []
   },
   "outputs": [],
   "source": [
    "from sklearn.linear_model import LogisticRegression\n",
    "model = LogisticRegression()\n",
    "final_LR_pipe = Pipeline(steps=[\n",
    "    ('preprocess', full_processor),\n",
    "    ('model', model)\n",
    "])"
   ]
  },
  {
   "cell_type": "code",
   "execution_count": 13,
   "id": "03fed648",
   "metadata": {
    "execution": {
     "iopub.execute_input": "2022-12-23T17:22:29.873134Z",
     "iopub.status.busy": "2022-12-23T17:22:29.872666Z",
     "iopub.status.idle": "2022-12-23T17:22:29.921633Z",
     "shell.execute_reply": "2022-12-23T17:22:29.920262Z"
    },
    "papermill": {
     "duration": 0.062621,
     "end_time": "2022-12-23T17:22:29.925014",
     "exception": false,
     "start_time": "2022-12-23T17:22:29.862393",
     "status": "completed"
    },
    "tags": []
   },
   "outputs": [],
   "source": [
    "_ = final_LR_pipe.fit(X, y)\n",
    "preds = final_LR_pipe.predict(test_X)\n"
   ]
  },
  {
   "cell_type": "code",
   "execution_count": 14,
   "id": "41bd83bb",
   "metadata": {
    "execution": {
     "iopub.execute_input": "2022-12-23T17:22:29.943894Z",
     "iopub.status.busy": "2022-12-23T17:22:29.943337Z",
     "iopub.status.idle": "2022-12-23T17:22:29.951458Z",
     "shell.execute_reply": "2022-12-23T17:22:29.949866Z"
    },
    "papermill": {
     "duration": 0.022714,
     "end_time": "2022-12-23T17:22:29.956176",
     "exception": false,
     "start_time": "2022-12-23T17:22:29.933462",
     "status": "completed"
    },
    "tags": []
   },
   "outputs": [
    {
     "name": "stdout",
     "output_type": "stream",
     "text": [
      "[0 0 0 0 1 0 1 0 1 0 0 0 1 0 1 1 0 0 1 1 0 0 1 1 1 0 1 0 0 0 0 0 0 1 1 0 1\n",
      " 1 0 0 0 0 0 1 1 0 0 0 1 1 0 0 1 1 0 0 0 0 0 1 0 0 0 1 1 1 1 0 1 1 1 0 1 1\n",
      " 1 1 0 1 0 1 0 0 0 0 0 0 1 1 1 0 1 0 1 0 1 0 1 0 1 0 1 0 0 0 1 0 0 0 0 0 0\n",
      " 1 1 1 1 0 0 1 1 1 1 0 1 0 0 1 0 1 0 0 0 0 1 0 0 0 0 0 1 0 0 1 0 0 0 0 0 0\n",
      " 0 0 1 0 0 1 0 0 1 1 0 1 1 0 1 0 0 1 0 0 1 1 0 0 0 0 0 1 1 0 1 1 0 0 1 0 1\n",
      " 0 1 0 0 0 0 0 0 0 0 0 1 1 0 1 1 0 0 1 0 1 1 0 1 0 0 0 0 1 0 0 1 0 1 0 1 0\n",
      " 1 0 1 1 0 1 0 0 0 1 0 0 0 0 0 0 1 1 1 1 0 0 0 0 1 0 1 1 1 0 1 0 0 0 0 0 1\n",
      " 0 0 0 1 1 0 0 0 0 1 0 0 0 1 1 0 1 0 0 0 0 1 0 1 1 1 0 0 0 0 0 0 1 0 0 0 0\n",
      " 1 0 0 0 0 0 0 0 1 1 0 0 0 0 0 0 0 1 1 1 0 0 0 0 0 0 0 0 1 0 1 0 0 0 1 0 0\n",
      " 1 0 0 0 0 0 0 0 0 0 1 0 1 0 1 0 1 1 0 0 0 1 0 1 0 0 1 0 1 1 0 1 0 0 1 1 0\n",
      " 0 1 0 0 1 1 1 0 0 0 0 0 1 1 0 1 0 0 0 0 1 1 0 0 0 1 0 1 0 0 1 0 1 1 0 0 0\n",
      " 0 1 1 1 1 1 0 1 0 0 0]\n"
     ]
    }
   ],
   "source": [
    "print(preds)"
   ]
  },
  {
   "cell_type": "code",
   "execution_count": 15,
   "id": "21e2db3c",
   "metadata": {
    "execution": {
     "iopub.execute_input": "2022-12-23T17:22:29.974746Z",
     "iopub.status.busy": "2022-12-23T17:22:29.974235Z",
     "iopub.status.idle": "2022-12-23T17:22:29.991085Z",
     "shell.execute_reply": "2022-12-23T17:22:29.989723Z"
    },
    "papermill": {
     "duration": 0.029327,
     "end_time": "2022-12-23T17:22:29.993770",
     "exception": false,
     "start_time": "2022-12-23T17:22:29.964443",
     "status": "completed"
    },
    "tags": []
   },
   "outputs": [
    {
     "data": {
      "text/html": [
       "<div>\n",
       "<style scoped>\n",
       "    .dataframe tbody tr th:only-of-type {\n",
       "        vertical-align: middle;\n",
       "    }\n",
       "\n",
       "    .dataframe tbody tr th {\n",
       "        vertical-align: top;\n",
       "    }\n",
       "\n",
       "    .dataframe thead th {\n",
       "        text-align: right;\n",
       "    }\n",
       "</style>\n",
       "<table border=\"1\" class=\"dataframe\">\n",
       "  <thead>\n",
       "    <tr style=\"text-align: right;\">\n",
       "      <th></th>\n",
       "      <th>PassengerId</th>\n",
       "      <th>Survived</th>\n",
       "    </tr>\n",
       "  </thead>\n",
       "  <tbody>\n",
       "    <tr>\n",
       "      <th>0</th>\n",
       "      <td>892</td>\n",
       "      <td>0</td>\n",
       "    </tr>\n",
       "    <tr>\n",
       "      <th>1</th>\n",
       "      <td>893</td>\n",
       "      <td>0</td>\n",
       "    </tr>\n",
       "    <tr>\n",
       "      <th>2</th>\n",
       "      <td>894</td>\n",
       "      <td>0</td>\n",
       "    </tr>\n",
       "    <tr>\n",
       "      <th>3</th>\n",
       "      <td>895</td>\n",
       "      <td>0</td>\n",
       "    </tr>\n",
       "    <tr>\n",
       "      <th>4</th>\n",
       "      <td>896</td>\n",
       "      <td>1</td>\n",
       "    </tr>\n",
       "    <tr>\n",
       "      <th>...</th>\n",
       "      <td>...</td>\n",
       "      <td>...</td>\n",
       "    </tr>\n",
       "    <tr>\n",
       "      <th>413</th>\n",
       "      <td>1305</td>\n",
       "      <td>0</td>\n",
       "    </tr>\n",
       "    <tr>\n",
       "      <th>414</th>\n",
       "      <td>1306</td>\n",
       "      <td>1</td>\n",
       "    </tr>\n",
       "    <tr>\n",
       "      <th>415</th>\n",
       "      <td>1307</td>\n",
       "      <td>0</td>\n",
       "    </tr>\n",
       "    <tr>\n",
       "      <th>416</th>\n",
       "      <td>1308</td>\n",
       "      <td>0</td>\n",
       "    </tr>\n",
       "    <tr>\n",
       "      <th>417</th>\n",
       "      <td>1309</td>\n",
       "      <td>0</td>\n",
       "    </tr>\n",
       "  </tbody>\n",
       "</table>\n",
       "<p>418 rows × 2 columns</p>\n",
       "</div>"
      ],
      "text/plain": [
       "     PassengerId  Survived\n",
       "0            892         0\n",
       "1            893         0\n",
       "2            894         0\n",
       "3            895         0\n",
       "4            896         1\n",
       "..           ...       ...\n",
       "413         1305         0\n",
       "414         1306         1\n",
       "415         1307         0\n",
       "416         1308         0\n",
       "417         1309         0\n",
       "\n",
       "[418 rows x 2 columns]"
      ]
     },
     "execution_count": 15,
     "metadata": {},
     "output_type": "execute_result"
    }
   ],
   "source": [
    "LR_prediction = pd.DataFrame(test_pd[[\"PassengerId\"]])\n",
    "LR_prediction['Survived'] = preds\n",
    "LR_prediction"
   ]
  },
  {
   "cell_type": "code",
   "execution_count": 16,
   "id": "6db3a01e",
   "metadata": {
    "execution": {
     "iopub.execute_input": "2022-12-23T17:22:30.012951Z",
     "iopub.status.busy": "2022-12-23T17:22:30.011593Z",
     "iopub.status.idle": "2022-12-23T17:22:30.021500Z",
     "shell.execute_reply": "2022-12-23T17:22:30.020544Z"
    },
    "papermill": {
     "duration": 0.022402,
     "end_time": "2022-12-23T17:22:30.024310",
     "exception": false,
     "start_time": "2022-12-23T17:22:30.001908",
     "status": "completed"
    },
    "tags": []
   },
   "outputs": [],
   "source": [
    "LR_prediction.to_csv(\"submission.csv\",index=False)"
   ]
  },
  {
   "cell_type": "markdown",
   "id": "ff77f873",
   "metadata": {
    "papermill": {
     "duration": 0.008103,
     "end_time": "2022-12-23T17:22:30.041060",
     "exception": false,
     "start_time": "2022-12-23T17:22:30.032957",
     "status": "completed"
    },
    "tags": []
   },
   "source": [
    "#### Changing Pclass to categorical variable and comparing performance of LR"
   ]
  },
  {
   "cell_type": "code",
   "execution_count": 17,
   "id": "6eeb65f6",
   "metadata": {
    "execution": {
     "iopub.execute_input": "2022-12-23T17:22:30.060181Z",
     "iopub.status.busy": "2022-12-23T17:22:30.059640Z",
     "iopub.status.idle": "2022-12-23T17:22:30.068610Z",
     "shell.execute_reply": "2022-12-23T17:22:30.067225Z"
    },
    "papermill": {
     "duration": 0.022234,
     "end_time": "2022-12-23T17:22:30.071532",
     "exception": false,
     "start_time": "2022-12-23T17:22:30.049298",
     "status": "completed"
    },
    "tags": []
   },
   "outputs": [
    {
     "name": "stderr",
     "output_type": "stream",
     "text": [
      "/opt/conda/lib/python3.7/site-packages/ipykernel_launcher.py:1: SettingWithCopyWarning: \n",
      "A value is trying to be set on a copy of a slice from a DataFrame.\n",
      "Try using .loc[row_indexer,col_indexer] = value instead\n",
      "\n",
      "See the caveats in the documentation: https://pandas.pydata.org/pandas-docs/stable/user_guide/indexing.html#returning-a-view-versus-a-copy\n",
      "  \"\"\"Entry point for launching an IPython kernel.\n"
     ]
    }
   ],
   "source": [
    "X['Pclass'] = X['Pclass'].astype(str)"
   ]
  },
  {
   "cell_type": "code",
   "execution_count": 18,
   "id": "2165d776",
   "metadata": {
    "execution": {
     "iopub.execute_input": "2022-12-23T17:22:30.091061Z",
     "iopub.status.busy": "2022-12-23T17:22:30.090529Z",
     "iopub.status.idle": "2022-12-23T17:22:30.137961Z",
     "shell.execute_reply": "2022-12-23T17:22:30.136520Z"
    },
    "papermill": {
     "duration": 0.061313,
     "end_time": "2022-12-23T17:22:30.141834",
     "exception": false,
     "start_time": "2022-12-23T17:22:30.080521",
     "status": "completed"
    },
    "tags": []
   },
   "outputs": [],
   "source": [
    "model = LogisticRegression()\n",
    "final_LR_pipe = Pipeline(steps=[\n",
    "    ('preprocess', full_processor),\n",
    "    ('model', model)\n",
    "])\n",
    "_ = final_LR_pipe.fit(X, y)\n",
    "preds = final_LR_pipe.predict(test_X)\n"
   ]
  },
  {
   "cell_type": "code",
   "execution_count": 19,
   "id": "5a8dead4",
   "metadata": {
    "execution": {
     "iopub.execute_input": "2022-12-23T17:22:30.161934Z",
     "iopub.status.busy": "2022-12-23T17:22:30.161402Z",
     "iopub.status.idle": "2022-12-23T17:22:30.178301Z",
     "shell.execute_reply": "2022-12-23T17:22:30.176919Z"
    },
    "papermill": {
     "duration": 0.030493,
     "end_time": "2022-12-23T17:22:30.180953",
     "exception": false,
     "start_time": "2022-12-23T17:22:30.150460",
     "status": "completed"
    },
    "tags": []
   },
   "outputs": [
    {
     "data": {
      "text/html": [
       "<div>\n",
       "<style scoped>\n",
       "    .dataframe tbody tr th:only-of-type {\n",
       "        vertical-align: middle;\n",
       "    }\n",
       "\n",
       "    .dataframe tbody tr th {\n",
       "        vertical-align: top;\n",
       "    }\n",
       "\n",
       "    .dataframe thead th {\n",
       "        text-align: right;\n",
       "    }\n",
       "</style>\n",
       "<table border=\"1\" class=\"dataframe\">\n",
       "  <thead>\n",
       "    <tr style=\"text-align: right;\">\n",
       "      <th></th>\n",
       "      <th>PassengerId</th>\n",
       "      <th>Survived</th>\n",
       "    </tr>\n",
       "  </thead>\n",
       "  <tbody>\n",
       "    <tr>\n",
       "      <th>0</th>\n",
       "      <td>892</td>\n",
       "      <td>0</td>\n",
       "    </tr>\n",
       "    <tr>\n",
       "      <th>1</th>\n",
       "      <td>893</td>\n",
       "      <td>0</td>\n",
       "    </tr>\n",
       "    <tr>\n",
       "      <th>2</th>\n",
       "      <td>894</td>\n",
       "      <td>0</td>\n",
       "    </tr>\n",
       "    <tr>\n",
       "      <th>3</th>\n",
       "      <td>895</td>\n",
       "      <td>0</td>\n",
       "    </tr>\n",
       "    <tr>\n",
       "      <th>4</th>\n",
       "      <td>896</td>\n",
       "      <td>1</td>\n",
       "    </tr>\n",
       "    <tr>\n",
       "      <th>...</th>\n",
       "      <td>...</td>\n",
       "      <td>...</td>\n",
       "    </tr>\n",
       "    <tr>\n",
       "      <th>413</th>\n",
       "      <td>1305</td>\n",
       "      <td>0</td>\n",
       "    </tr>\n",
       "    <tr>\n",
       "      <th>414</th>\n",
       "      <td>1306</td>\n",
       "      <td>1</td>\n",
       "    </tr>\n",
       "    <tr>\n",
       "      <th>415</th>\n",
       "      <td>1307</td>\n",
       "      <td>0</td>\n",
       "    </tr>\n",
       "    <tr>\n",
       "      <th>416</th>\n",
       "      <td>1308</td>\n",
       "      <td>0</td>\n",
       "    </tr>\n",
       "    <tr>\n",
       "      <th>417</th>\n",
       "      <td>1309</td>\n",
       "      <td>0</td>\n",
       "    </tr>\n",
       "  </tbody>\n",
       "</table>\n",
       "<p>418 rows × 2 columns</p>\n",
       "</div>"
      ],
      "text/plain": [
       "     PassengerId  Survived\n",
       "0            892         0\n",
       "1            893         0\n",
       "2            894         0\n",
       "3            895         0\n",
       "4            896         1\n",
       "..           ...       ...\n",
       "413         1305         0\n",
       "414         1306         1\n",
       "415         1307         0\n",
       "416         1308         0\n",
       "417         1309         0\n",
       "\n",
       "[418 rows x 2 columns]"
      ]
     },
     "execution_count": 19,
     "metadata": {},
     "output_type": "execute_result"
    }
   ],
   "source": [
    "LR_prediction = pd.DataFrame(test_pd[[\"PassengerId\"]])\n",
    "LR_prediction['Survived'] = preds\n",
    "LR_prediction"
   ]
  },
  {
   "cell_type": "code",
   "execution_count": 20,
   "id": "485003a1",
   "metadata": {
    "execution": {
     "iopub.execute_input": "2022-12-23T17:22:30.200587Z",
     "iopub.status.busy": "2022-12-23T17:22:30.199509Z",
     "iopub.status.idle": "2022-12-23T17:22:30.208057Z",
     "shell.execute_reply": "2022-12-23T17:22:30.206885Z"
    },
    "papermill": {
     "duration": 0.021224,
     "end_time": "2022-12-23T17:22:30.210667",
     "exception": false,
     "start_time": "2022-12-23T17:22:30.189443",
     "status": "completed"
    },
    "tags": []
   },
   "outputs": [],
   "source": [
    "LR_prediction.to_csv(\"submission.csv\",index=False)"
   ]
  }
 ],
 "metadata": {
  "kernelspec": {
   "display_name": "Python 3",
   "language": "python",
   "name": "python3"
  },
  "language_info": {
   "codemirror_mode": {
    "name": "ipython",
    "version": 3
   },
   "file_extension": ".py",
   "mimetype": "text/x-python",
   "name": "python",
   "nbconvert_exporter": "python",
   "pygments_lexer": "ipython3",
   "version": "3.7.12"
  },
  "papermill": {
   "default_parameters": {},
   "duration": 13.056834,
   "end_time": "2022-12-23T17:22:31.246232",
   "environment_variables": {},
   "exception": null,
   "input_path": "__notebook__.ipynb",
   "output_path": "__notebook__.ipynb",
   "parameters": {},
   "start_time": "2022-12-23T17:22:18.189398",
   "version": "2.3.4"
  }
 },
 "nbformat": 4,
 "nbformat_minor": 5
}
